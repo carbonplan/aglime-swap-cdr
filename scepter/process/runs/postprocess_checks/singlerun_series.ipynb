{
 "cells": [
  {
   "cell_type": "code",
   "execution_count": 1,
   "id": "31b82091-e764-460b-aaf6-b1dcd7ff92fa",
   "metadata": {},
   "outputs": [],
   "source": [
    "# -------------------------------------------------------\n",
    "# \n",
    "# run some basic checks to make sure SCEPTER results\n",
    "# are complete and consistent across a series \n",
    "# submitted to argo\n",
    "# \n",
    "# -------------------------------------------------------"
   ]
  },
  {
   "cell_type": "code",
   "execution_count": 4,
   "id": "3c4fc397-b7b9-42c3-b805-89a7f03b9291",
   "metadata": {},
   "outputs": [],
   "source": [
    "import numpy as np\n",
    "import pandas as pd\n",
    "import matplotlib.pyplot as plt\n",
    "import os\n",
    "import re\n",
    "import glob\n",
    "from matplotlib.gridspec import GridSpec\n",
    "from matplotlib.colors import Normalize\n",
    "from matplotlib.cm import ScalarMappable\n",
    "\n",
    "# --- \n",
    "runname_base = \"meanAnn_liming_noFert_fixedRate_site_\"\n",
    "runname_batch_csv = \"meanAnn_liming_noFert_fixedRate_v0.csv\"\n",
    "outdir = \"/home/tykukla/SCEPTER/scepter_output\""
   ]
  },
  {
   "cell_type": "code",
   "execution_count": 6,
   "id": "e83aaa65-28f2-4fc1-abb1-2f0399807484",
   "metadata": {},
   "outputs": [],
   "source": [
    "# --- read in the batch .csv \n",
    "csv_loc = \"/home/tykukla/aglime-swap-cdr/scepter/batch-inputs\"\n",
    "dfin = pd.read_csv(os.path.join(csv_loc, runname_batch_csv))\n",
    "# dfin"
   ]
  },
  {
   "cell_type": "code",
   "execution_count": 8,
   "id": "c292bfc3-a67c-40e9-be7e-fcf9d7a5ecc7",
   "metadata": {},
   "outputs": [],
   "source": [
    "# --- function to find relevant subdirectories\n",
    "def find_subdirectories(root_dir, target_string):\n",
    "    matching_subdirectories = []\n",
    "    for dirpath, dirnames, filenames in os.walk(root_dir):\n",
    "        for dirname in dirnames:\n",
    "            if target_string in dirname:\n",
    "                matching_subdirectories.append(os.path.join(dirpath, dirname))\n",
    "    return matching_subdirectories"
   ]
  },
  {
   "cell_type": "code",
   "execution_count": 14,
   "id": "a8f551d1-782e-4808-b03e-ee9d6e674c41",
   "metadata": {},
   "outputs": [],
   "source": [
    "# --- function to check if completed file exists\n",
    "def completed_check(rundir, complete_fn=\"completed.res\"):\n",
    "    file_path = os.path.join(rundir, complete_fn)\n",
    "    return os.path.exists(file_path)"
   ]
  },
  {
   "cell_type": "code",
   "execution_count": 16,
   "id": "9d687d0f-f7bc-4e8f-8ee0-61040fd2743b",
   "metadata": {},
   "outputs": [
    {
     "name": "stdout",
     "output_type": "stream",
     "text": [
      "True\n",
      "True\n",
      "True\n",
      "True\n",
      "True\n",
      "True\n",
      "True\n",
      "True\n",
      "True\n",
      "True\n",
      "True\n",
      "True\n",
      "True\n",
      "True\n",
      "True\n",
      "True\n",
      "True\n",
      "True\n",
      "True\n",
      "True\n",
      "True\n",
      "True\n",
      "True\n",
      "True\n",
      "True\n",
      "True\n",
      "True\n",
      "True\n",
      "True\n",
      "True\n",
      "True\n",
      "True\n",
      "True\n",
      "True\n",
      "True\n",
      "True\n",
      "True\n",
      "True\n",
      "True\n",
      "True\n"
     ]
    }
   ],
   "source": [
    "# --- iterate through run directories\n",
    "rundirs = find_subdirectories(outdir, runname_base)\n",
    "\n",
    "for thisdir in rundirs:\n",
    "    print(completed_check(thisdir))\n"
   ]
  }
 ],
 "metadata": {
  "kernelspec": {
   "display_name": "global-global-carbonplan",
   "language": "python",
   "name": "conda-env-global-global-carbonplan-py"
  },
  "language_info": {
   "codemirror_mode": {
    "name": "ipython",
    "version": 3
   },
   "file_extension": ".py",
   "mimetype": "text/x-python",
   "name": "python",
   "nbconvert_exporter": "python",
   "pygments_lexer": "ipython3",
   "version": "3.10.13"
  }
 },
 "nbformat": 4,
 "nbformat_minor": 5
}
