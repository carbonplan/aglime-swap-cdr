{
 "cells": [
  {
   "cell_type": "code",
   "execution_count": 1,
   "id": "c31250aa-e6ac-4021-83b6-ff17b12ea851",
   "metadata": {
    "tags": []
   },
   "outputs": [],
   "source": [
    "import matplotlib.pyplot as plt\n",
    "import pandas as pd"
   ]
  },
  {
   "cell_type": "code",
   "execution_count": 43,
   "id": "eeab7263-99d6-45c5-b2f0-403e9737b848",
   "metadata": {
    "tags": []
   },
   "outputs": [],
   "source": [
    "# --- function to preprocess clim .in files\n",
    "\n",
    "\n",
    "def read_cust_delim_file(file_path):\n",
    "    # Read the first line to get column names using '/'\n",
    "    with open(file_path) as file:\n",
    "        columns = file.readline().strip().split(\" / \")\n",
    "\n",
    "    # Read the rest of the file using '\\t' as the data delimiter\n",
    "    df = pd.read_table(file_path, names=columns, delimiter=\"\\t\", skiprows=[0])\n",
    "\n",
    "    # --- clean up column names\n",
    "    # Remove \"# \" prefix from column headers\n",
    "    df.columns = df.columns.str.replace(\"# \", \"\")\n",
    "    # Replace parentheses with underscores\n",
    "    df.columns = map(lambda x: x.replace(\"(\", \"_\").replace(\")\", \"\"), df.columns)\n",
    "    # replace \"/\" with underscores\n",
    "    df.columns = map(lambda x: x.replace(\"/\", \"_\"), df.columns)\n",
    "    # remove leading or trailing spaces\n",
    "    df.columns = df.columns.str.strip()\n",
    "    # return\n",
    "    return df"
   ]
  },
  {
   "cell_type": "code",
   "execution_count": 51,
   "id": "fb526698-e25b-4e56-bd27-e342b4116a0f",
   "metadata": {
    "tags": []
   },
   "outputs": [
    {
     "data": {
      "text/html": [
       "<div>\n",
       "<style scoped>\n",
       "    .dataframe tbody tr th:only-of-type {\n",
       "        vertical-align: middle;\n",
       "    }\n",
       "\n",
       "    .dataframe tbody tr th {\n",
       "        vertical-align: top;\n",
       "    }\n",
       "\n",
       "    .dataframe thead th {\n",
       "        text-align: right;\n",
       "    }\n",
       "</style>\n",
       "<table border=\"1\" class=\"dataframe\">\n",
       "  <thead>\n",
       "    <tr style=\"text-align: right;\">\n",
       "      <th></th>\n",
       "      <th>time_yr</th>\n",
       "      <th>T_C</th>\n",
       "      <th>runoff_mm_month</th>\n",
       "      <th>moisture_mm_m</th>\n",
       "    </tr>\n",
       "  </thead>\n",
       "  <tbody>\n",
       "    <tr>\n",
       "      <th>0</th>\n",
       "      <td>0.000000</td>\n",
       "      <td>-14.118158</td>\n",
       "      <td>7.331076</td>\n",
       "      <td>348.818412</td>\n",
       "    </tr>\n",
       "    <tr>\n",
       "      <th>1</th>\n",
       "      <td>0.083333</td>\n",
       "      <td>-9.115721</td>\n",
       "      <td>36.386386</td>\n",
       "      <td>349.999180</td>\n",
       "    </tr>\n",
       "    <tr>\n",
       "      <th>2</th>\n",
       "      <td>0.166667</td>\n",
       "      <td>-7.199803</td>\n",
       "      <td>105.622162</td>\n",
       "      <td>359.231414</td>\n",
       "    </tr>\n",
       "    <tr>\n",
       "      <th>3</th>\n",
       "      <td>0.250000</td>\n",
       "      <td>4.684758</td>\n",
       "      <td>258.038904</td>\n",
       "      <td>378.908079</td>\n",
       "    </tr>\n",
       "    <tr>\n",
       "      <th>4</th>\n",
       "      <td>0.333333</td>\n",
       "      <td>15.202311</td>\n",
       "      <td>89.786018</td>\n",
       "      <td>337.040052</td>\n",
       "    </tr>\n",
       "    <tr>\n",
       "      <th>...</th>\n",
       "      <td>...</td>\n",
       "      <td>...</td>\n",
       "      <td>...</td>\n",
       "      <td>...</td>\n",
       "    </tr>\n",
       "    <tr>\n",
       "      <th>1027</th>\n",
       "      <td>85.583333</td>\n",
       "      <td>20.846833</td>\n",
       "      <td>64.552093</td>\n",
       "      <td>281.732984</td>\n",
       "    </tr>\n",
       "    <tr>\n",
       "      <th>1028</th>\n",
       "      <td>85.666667</td>\n",
       "      <td>12.410568</td>\n",
       "      <td>80.873501</td>\n",
       "      <td>305.494794</td>\n",
       "    </tr>\n",
       "    <tr>\n",
       "      <th>1029</th>\n",
       "      <td>85.750000</td>\n",
       "      <td>6.001521</td>\n",
       "      <td>85.516014</td>\n",
       "      <td>342.041358</td>\n",
       "    </tr>\n",
       "    <tr>\n",
       "      <th>1030</th>\n",
       "      <td>85.833333</td>\n",
       "      <td>-0.073304</td>\n",
       "      <td>107.668845</td>\n",
       "      <td>363.014079</td>\n",
       "    </tr>\n",
       "    <tr>\n",
       "      <th>1031</th>\n",
       "      <td>85.916667</td>\n",
       "      <td>-8.687966</td>\n",
       "      <td>78.679208</td>\n",
       "      <td>362.988185</td>\n",
       "    </tr>\n",
       "  </tbody>\n",
       "</table>\n",
       "<p>1032 rows × 4 columns</p>\n",
       "</div>"
      ],
      "text/plain": [
       "        time_yr        T_C  runoff_mm_month  moisture_mm_m\n",
       "0      0.000000 -14.118158         7.331076     348.818412\n",
       "1      0.083333  -9.115721        36.386386     349.999180\n",
       "2      0.166667  -7.199803       105.622162     359.231414\n",
       "3      0.250000   4.684758       258.038904     378.908079\n",
       "4      0.333333  15.202311        89.786018     337.040052\n",
       "...         ...        ...              ...            ...\n",
       "1027  85.583333  20.846833        64.552093     281.732984\n",
       "1028  85.666667  12.410568        80.873501     305.494794\n",
       "1029  85.750000   6.001521        85.516014     342.041358\n",
       "1030  85.833333  -0.073304       107.668845     363.014079\n",
       "1031  85.916667  -8.687966        78.679208     362.988185\n",
       "\n",
       "[1032 rows x 4 columns]"
      ]
     },
     "execution_count": 51,
     "metadata": {},
     "output_type": "execute_result"
    }
   ],
   "source": [
    "# --- read in data\n",
    "fnvars = [\"T\", \"q\", \"Wet\"]\n",
    "fnsuff = \"_temp.in\"\n",
    "\n",
    "# loop through vars\n",
    "df = pd.DataFrame()\n",
    "for var in fnvars:\n",
    "    thisvar = var + fnsuff\n",
    "    dfi = read_cust_delim_file(thisvar)\n",
    "    # bring together\n",
    "    if var == fnvars[0]:\n",
    "        df = dfi.copy()\n",
    "    else:\n",
    "        df = pd.merge(df, dfi, on=\"time_yr\", how=\"outer\")\n",
    "\n",
    "df"
   ]
  },
  {
   "cell_type": "code",
   "execution_count": 56,
   "id": "f65fdef7-3b40-4221-8d1e-42ec3b431dbb",
   "metadata": {
    "tags": []
   },
   "outputs": [
    {
     "data": {
      "image/png": "[encoded data removed]",
      "text/plain": [
       "<Figure size 640x480 with 1 Axes>"
      ]
     },
     "metadata": {},
     "output_type": "display_data"
    }
   ],
   "source": [
    "# --- quick plot, a few seasons\n",
    "pvar = \"runoff_mm_month\"  # runoff_mm_month\n",
    "# T_C\n",
    "# moisture_mm_m\n",
    "\n",
    "# plot\n",
    "plt.plot(df[\"time_yr\"], df[pvar])\n",
    "plt.scatter(df[\"time_yr\"], df[pvar])\n",
    "plt.xlim([0, 3])\n",
    "plt.show();"
   ]
  },
  {
   "cell_type": "code",
   "execution_count": 30,
   "id": "a4447775-4db7-429b-bd40-82311de1c67b",
   "metadata": {
    "tags": []
   },
   "outputs": [
    {
     "data": {
      "text/plain": [
       "Index(['time_yr', 'T_C'], dtype='object')"
      ]
     },
     "execution_count": 30,
     "metadata": {},
     "output_type": "execute_result"
    }
   ],
   "source": [
    "df.columns.str.strip()"
   ]
  }
 ],
 "metadata": {
  "kernelspec": {
   "display_name": "default *",
   "language": "python",
   "name": "conda-env-default-py"
  },
  "language_info": {
   "codemirror_mode": {
    "name": "ipython",
    "version": 3
   },
   "file_extension": ".py",
   "mimetype": "text/x-python",
   "name": "python",
   "nbconvert_exporter": "python",
   "pygments_lexer": "ipython3",
   "version": "3.11.8"
  }
 },
 "nbformat": 4,
 "nbformat_minor": 5
}
