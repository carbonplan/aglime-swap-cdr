{
 "cells": [
  {
   "cell_type": "code",
   "execution_count": 24,
   "id": "d5074127-1e8c-46e0-acf4-510f8bf2323d",
   "metadata": {},
   "outputs": [],
   "source": [
    "import pandas as pd\n",
    "import os\n",
    "\n",
    "# ---\n",
    "run_prefix = \"no_app\"   # prefix of output run names\n",
    "base_climdir = \"/home/tykukla/aglime-swap-cdr/scepter/clim-inputs\"\n",
    "clim_general = \"cesm2le_monthly_ens1231-001\"   # identifier for climate files to use\n",
    "clim_ts = \"1851-1950mean_x100yr\"\n",
    "const_dict = {\"duration\": 80,\n",
    "              \"dustrate\": 0,\n",
    "              \"climatedir\": os.path.join(base_climdir, clim_general, clim_ts),\n",
    "             }\n",
    "# ---\n",
    "savefn = \"no_app_v0.csv\""
   ]
  },
  {
   "cell_type": "code",
   "execution_count": 25,
   "id": "5790c304-94c5-4b36-9b37-2e52c8410166",
   "metadata": {},
   "outputs": [
    {
     "data": {
      "text/html": [
       "<div>\n",
       "<style scoped>\n",
       "    .dataframe tbody tr th:only-of-type {\n",
       "        vertical-align: middle;\n",
       "    }\n",
       "\n",
       "    .dataframe tbody tr th {\n",
       "        vertical-align: top;\n",
       "    }\n",
       "\n",
       "    .dataframe thead th {\n",
       "        text-align: right;\n",
       "    }\n",
       "</style>\n",
       "<table border=\"1\" class=\"dataframe\">\n",
       "  <thead>\n",
       "    <tr style=\"text-align: right;\">\n",
       "      <th></th>\n",
       "      <th>site</th>\n",
       "      <th>spinname</th>\n",
       "      <th>lat</th>\n",
       "      <th>lon</th>\n",
       "      <th>mat</th>\n",
       "      <th>soilmoisture</th>\n",
       "      <th>qrun</th>\n",
       "      <th>tsom</th>\n",
       "      <th>erosion</th>\n",
       "      <th>nitrif</th>\n",
       "      <th>tph</th>\n",
       "      <th>cec</th>\n",
       "      <th>tec</th>\n",
       "      <th>tsoilco2</th>\n",
       "      <th>poro</th>\n",
       "      <th>alpha</th>\n",
       "    </tr>\n",
       "  </thead>\n",
       "  <tbody>\n",
       "    <tr>\n",
       "      <th>0</th>\n",
       "      <td>site_311</td>\n",
       "      <td>site_311</td>\n",
       "      <td>42.5</td>\n",
       "      <td>-91</td>\n",
       "      <td>8.22219</td>\n",
       "      <td>0.282727</td>\n",
       "      <td>0.351361</td>\n",
       "      <td>2.051667</td>\n",
       "      <td>0.001013</td>\n",
       "      <td>1.005952</td>\n",
       "      <td>6.058007</td>\n",
       "      <td>21.10329</td>\n",
       "      <td>20.98031</td>\n",
       "      <td>-1.80371</td>\n",
       "      <td>0.447</td>\n",
       "      <td>2.0</td>\n",
       "    </tr>\n",
       "    <tr>\n",
       "      <th>1</th>\n",
       "      <td>site_411</td>\n",
       "      <td>site_411</td>\n",
       "      <td>32.0</td>\n",
       "      <td>-83</td>\n",
       "      <td>18.52789</td>\n",
       "      <td>0.231552</td>\n",
       "      <td>0.243426</td>\n",
       "      <td>2.276667</td>\n",
       "      <td>0.000840</td>\n",
       "      <td>0.831883</td>\n",
       "      <td>5.200242</td>\n",
       "      <td>1.96125</td>\n",
       "      <td>46.91557</td>\n",
       "      <td>-1.61194</td>\n",
       "      <td>0.419</td>\n",
       "      <td>2.0</td>\n",
       "    </tr>\n",
       "  </tbody>\n",
       "</table>\n",
       "</div>"
      ],
      "text/plain": [
       "       site  spinname   lat  lon       mat  soilmoisture      qrun      tsom  \\\n",
       "0  site_311  site_311  42.5  -91   8.22219      0.282727  0.351361  2.051667   \n",
       "1  site_411  site_411  32.0  -83  18.52789      0.231552  0.243426  2.276667   \n",
       "\n",
       "    erosion    nitrif       tph       cec       tec  tsoilco2   poro  alpha  \n",
       "0  0.001013  1.005952  6.058007  21.10329  20.98031  -1.80371  0.447    2.0  \n",
       "1  0.000840  0.831883  5.200242   1.96125  46.91557  -1.61194  0.419    2.0  "
      ]
     },
     "execution_count": 25,
     "metadata": {},
     "output_type": "execute_result"
    }
   ],
   "source": [
    "# --- read in site inputs\n",
    "spin_in_path = \"/home/tykukla/aglime-swap-cdr/scepter/batch-inputs\"\n",
    "spin_inputs = \"spinup-inputs.csv\"\n",
    "# read in \n",
    "df = pd.read_csv(os.path.join(spin_in_path, spin_inputs))\n",
    "df"
   ]
  },
  {
   "cell_type": "code",
   "execution_count": 26,
   "id": "6aad3367-58d5-438c-b6cd-7e597d7ac973",
   "metadata": {},
   "outputs": [],
   "source": [
    "# define the vars to collect\n",
    "allvars = ['duration', 'cec', 'dustrate', 'spinrun', 'newrun_id', 'climatedir', 'climatefiles']"
   ]
  },
  {
   "cell_type": "code",
   "execution_count": 27,
   "id": "ae3d587f-4646-460e-8334-3be9ac77837c",
   "metadata": {},
   "outputs": [],
   "source": [
    "def newrun_id_fxn(pref, site, clim_tag):\n",
    "    return pref + \"_\" + site + \"_\" + clim_tag\n",
    "    "
   ]
  },
  {
   "cell_type": "code",
   "execution_count": 28,
   "id": "5b07132d-7a83-400e-ae67-eed2f28322c5",
   "metadata": {},
   "outputs": [],
   "source": [
    "# --- functions to derive inputs\n",
    "def thisrow(tdf, const_dict, allvars, run_prefix, clim_ts):\n",
    "    outarr = [] # save row\n",
    "    thissite = tdf[\"site\"]\n",
    "    for var in allvars:\n",
    "        if var == 'spinrun':\n",
    "            outarr.append(thissite)\n",
    "        elif var == 'newrun_id':\n",
    "            outarr.append(newrun_id_fxn(run_prefix, thissite, clim_ts))\n",
    "        elif var == 'climatefiles':\n",
    "            outarr.append(thissite)\n",
    "        else:   # var is defined by const_dict or df      \n",
    "            tvar = const_dict.get(var)\n",
    "            if tvar is None:\n",
    "                tvar = tdf[var]\n",
    "                outarr.append(tvar)\n",
    "            else:\n",
    "                outarr.append(tvar)\n",
    "    return outarr"
   ]
  },
  {
   "cell_type": "code",
   "execution_count": 29,
   "id": "49e65651-8139-4e68-94dd-cbc7c0a008a8",
   "metadata": {},
   "outputs": [
    {
     "data": {
      "text/html": [
       "<div>\n",
       "<style scoped>\n",
       "    .dataframe tbody tr th:only-of-type {\n",
       "        vertical-align: middle;\n",
       "    }\n",
       "\n",
       "    .dataframe tbody tr th {\n",
       "        vertical-align: top;\n",
       "    }\n",
       "\n",
       "    .dataframe thead th {\n",
       "        text-align: right;\n",
       "    }\n",
       "</style>\n",
       "<table border=\"1\" class=\"dataframe\">\n",
       "  <thead>\n",
       "    <tr style=\"text-align: right;\">\n",
       "      <th></th>\n",
       "      <th>duration</th>\n",
       "      <th>cec</th>\n",
       "      <th>dustrate</th>\n",
       "      <th>spinrun</th>\n",
       "      <th>newrun_id</th>\n",
       "      <th>climatedir</th>\n",
       "      <th>climatefiles</th>\n",
       "    </tr>\n",
       "  </thead>\n",
       "  <tbody>\n",
       "    <tr>\n",
       "      <th>0</th>\n",
       "      <td>80</td>\n",
       "      <td>21.10329</td>\n",
       "      <td>0</td>\n",
       "      <td>site_311</td>\n",
       "      <td>no_app_site_311_1851-1950mean_x100yr</td>\n",
       "      <td>/home/tykukla/aglime-swap-cdr/scepter/clim-inp...</td>\n",
       "      <td>site_311</td>\n",
       "    </tr>\n",
       "    <tr>\n",
       "      <th>1</th>\n",
       "      <td>80</td>\n",
       "      <td>1.96125</td>\n",
       "      <td>0</td>\n",
       "      <td>site_411</td>\n",
       "      <td>no_app_site_411_1851-1950mean_x100yr</td>\n",
       "      <td>/home/tykukla/aglime-swap-cdr/scepter/clim-inp...</td>\n",
       "      <td>site_411</td>\n",
       "    </tr>\n",
       "  </tbody>\n",
       "</table>\n",
       "</div>"
      ],
      "text/plain": [
       "   duration       cec  dustrate   spinrun  \\\n",
       "0        80  21.10329         0  site_311   \n",
       "1        80   1.96125         0  site_411   \n",
       "\n",
       "                              newrun_id  \\\n",
       "0  no_app_site_311_1851-1950mean_x100yr   \n",
       "1  no_app_site_411_1851-1950mean_x100yr   \n",
       "\n",
       "                                          climatedir climatefiles  \n",
       "0  /home/tykukla/aglime-swap-cdr/scepter/clim-inp...     site_311  \n",
       "1  /home/tykukla/aglime-swap-cdr/scepter/clim-inp...     site_411  "
      ]
     },
     "execution_count": 29,
     "metadata": {},
     "output_type": "execute_result"
    }
   ],
   "source": [
    "# --- loop through sites\n",
    "# create output pandas df\n",
    "outdf = pd.DataFrame(columns=allvars)\n",
    "# loop\n",
    "for idx in range(len(df)):\n",
    "    tdf = df.loc[idx]\n",
    "    thesevars = thisrow(tdf, const_dict, allvars, run_prefix, clim_ts)\n",
    "    outdf.loc[idx] = thesevars\n",
    "outdf"
   ]
  },
  {
   "cell_type": "code",
   "execution_count": 30,
   "id": "aa57b470-31c1-4134-bb84-025ca27a813e",
   "metadata": {},
   "outputs": [
    {
     "data": {
      "text/plain": [
       "'/home/tykukla/aglime-swap-cdr/scepter/clim-inputs/cesm2le_monthly_ens1231-001/1851-1950mean_x100yr'"
      ]
     },
     "execution_count": 30,
     "metadata": {},
     "output_type": "execute_result"
    }
   ],
   "source": [
    "outdf['climatedir'][1]"
   ]
  },
  {
   "cell_type": "code",
   "execution_count": 34,
   "id": "8c5c02ac-b24d-4d65-9539-adbb4096c017",
   "metadata": {},
   "outputs": [],
   "source": [
    "# --- save result\n",
    "savepath_batch = '/home/tykukla/aglime-swap-cdr/scepter/batch-inputs'\n",
    "outdf.to_csv(os.path.join(savepath_batch, savefn), index=False)"
   ]
  }
 ],
 "metadata": {
  "kernelspec": {
   "display_name": "global-global-carbonplan",
   "language": "python",
   "name": "conda-env-global-global-carbonplan-py"
  },
  "language_info": {
   "codemirror_mode": {
    "name": "ipython",
    "version": 3
   },
   "file_extension": ".py",
   "mimetype": "text/x-python",
   "name": "python",
   "nbconvert_exporter": "python",
   "pygments_lexer": "ipython3",
   "version": "3.10.13"
  }
 },
 "nbformat": 4,
 "nbformat_minor": 5
}
