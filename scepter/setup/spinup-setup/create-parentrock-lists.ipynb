{
 "cells": [
  {
   "cell_type": "code",
   "execution_count": 2,
   "id": "0b09d5f7-cd18-4b07-bf9d-a7642806c68c",
   "metadata": {},
   "outputs": [],
   "source": [
    "# --- create and save lists of parentrock inputs for spinup runs\n",
    "import json\n",
    "import os\n",
    "\n",
    "# ---\n",
    "savehere = \"/home/tykukla/SCEPTER/data\""
   ]
  },
  {
   "cell_type": "code",
   "execution_count": 8,
   "id": "9609fd7c-c314-4f42-927c-763cf42e55e8",
   "metadata": {},
   "outputs": [],
   "source": [
    "# parentrock1 --- example 3-2 from SCEPTER v0.9\n",
    "pr_list1 = [\n",
    "    (\"amsi\", 33.28e-2),\n",
    "    (\"cc\", 4.85e-2),\n",
    "    (\"dlm\", 2.32e-2),\n",
    "    (\"tm\", 2.34e-2),\n",
    "    (\"ka\", 3.14e-2),\n",
    "    (\"dp\", 12.83e-2),\n",
    "    (\"qtz\", 26.89e-2),\n",
    "    (\"ill\", 10.07e-2),\n",
    "    (\"cabd\", 1.40e-2),\n",
    "    (\"kfs\", 4.73e-2),\n",
    "    (\"ab\", 19.27e-2),\n",
    "]\n",
    "\n",
    "# save to json\n",
    "with open(os.path.join(savehere, \"parentlist1.json\"), \"w\") as f:\n",
    "    json.dump(pr_list1, f)"
   ]
  },
  {
   "cell_type": "code",
   "execution_count": 9,
   "id": "8cf969a2-2bb2-4bbf-899b-83b1f84a1bf9",
   "metadata": {},
   "outputs": [],
   "source": [
    "# parentrock2 --- example 3-3 from SCEPTER v0.9 (as 3-2 but with fe2o2 tracked)\n",
    "pr_list2 = [\n",
    "    (\"amsi\", 33.28e-2),\n",
    "    (\"cc\", 4.85e-2),\n",
    "    (\"dlm\", 2.32e-2),\n",
    "    (\"tm\", 2.34e-2),\n",
    "    (\"ka\", 3.14e-2),\n",
    "    (\"dp\", 12.83e-2),\n",
    "    (\"qtz\", 26.89e-2),\n",
    "    (\"ill\", 10.07e-2),\n",
    "    (\"cabd\", 1.40e-2),\n",
    "    (\"kfs\", 4.73e-2),\n",
    "    (\"ab\", 19.27e-2),\n",
    "    (\"gt\", 1e-6),\n",
    "]  # gt included for runs where \"fe2o2\" is in extrxns.in\n",
    "\n",
    "# save to json\n",
    "with open(os.path.join(savehere, \"parentlist2.json\"), \"w\") as f:\n",
    "    json.dump(pr_list2, f)"
   ]
  },
  {
   "cell_type": "code",
   "execution_count": 2,
   "id": "55fd1d20-cd42-4780-b7d6-08d7b97cc597",
   "metadata": {},
   "outputs": [],
   "source": [
    "# parentrock3 --- example 3-2 from SCEPTER v0.9 but with trace cc and dlm (~1 order magnitude less)\n",
    "pr_list3 = [\n",
    "    (\"amsi\", 33.28e-2),\n",
    "    (\"cc\", 1.0e-6),\n",
    "    (\"dlm\", 1.0e-6),\n",
    "    (\"tm\", 2.34e-2),\n",
    "    (\"ka\", 3.14e-2),\n",
    "    (\"dp\", 12.83e-2),\n",
    "    (\"qtz\", 26.89e-2),\n",
    "    (\"ill\", 10.07e-2),\n",
    "    (\"cabd\", 1.40e-2),\n",
    "    (\"kfs\", 4.73e-2),\n",
    "    (\"ab\", 19.27e-2),\n",
    "]\n",
    "\n",
    "# save to json\n",
    "with open(os.path.join(savehere, \"parentlist3.json\"), \"w\") as f:\n",
    "    json.dump(pr_list3, f)"
   ]
  },
  {
   "cell_type": "code",
   "execution_count": 3,
   "id": "a61b13d4-79d0-413c-afa3-282e9c52e26d",
   "metadata": {},
   "outputs": [],
   "source": [
    "# parentrock4 --- as SCEPTER 1.0 with a bit of cc\n",
    "pr_list4 = [(\"inrt\", 1.0), (\"cc\", 1e-3)]\n",
    "\n",
    "# save to json\n",
    "with open(os.path.join(savehere, \"parentlist4.json\"), \"w\") as f:\n",
    "    json.dump(pr_list4, f)"
   ]
  },
  {
   "cell_type": "code",
   "execution_count": 4,
   "id": "beb9c9b1-5804-44d6-b2b8-b7ebb47fafeb",
   "metadata": {},
   "outputs": [],
   "source": [
    "# parentrock5 --- example 1 from SCEPTER 0.9 (just to show albite-kaolinite transition)\n",
    "pr_list5 = [(\"ka\", 1e-5), (\"ab\", 0.1)]\n",
    "\n",
    "# save to json\n",
    "with open(os.path.join(savehere, \"parentlist5.json\"), \"w\") as f:\n",
    "    json.dump(pr_list5, f)"
   ]
  },
  {
   "cell_type": "code",
   "execution_count": 2,
   "id": "32a399a7-8407-41d6-8e99-00419fb5ffe3",
   "metadata": {},
   "outputs": [],
   "source": [
    "# parentrock6 --- example 3-2 from SCEPTER v0.9 but with no cc and dlm\n",
    "pr_list6 = [\n",
    "    (\"amsi\", 33.28e-2),\n",
    "    (\"tm\", 2.34e-2),\n",
    "    (\"ka\", 3.14e-2),\n",
    "    (\"dp\", 12.83e-2),\n",
    "    (\"qtz\", 26.89e-2),\n",
    "    (\"ill\", 10.07e-2),\n",
    "    (\"cabd\", 1.40e-2),\n",
    "    (\"kfs\", 4.73e-2),\n",
    "    (\"ab\", 19.27e-2),\n",
    "]\n",
    "\n",
    "# save to json\n",
    "with open(os.path.join(savehere, \"parentlist6.json\"), \"w\") as f:\n",
    "    json.dump(pr_list6, f)"
   ]
  },
  {
   "cell_type": "code",
   "execution_count": 3,
   "id": "3be3d3da-fd54-4edd-8567-3e8afc56f53d",
   "metadata": {},
   "outputs": [],
   "source": [
    "# parentrock7 --- example 3-2 from SCEPTER v0.9 but with no cc and dlm and minimal clay\n",
    "pr_list7 = [\n",
    "    (\"amsi\", 33.28e-2),\n",
    "    (\"tm\", 2.34e-2),\n",
    "    (\"ka\", 0.314e-2),  # 3.14e2\n",
    "    (\"dp\", 12.83e-2),\n",
    "    (\"qtz\", 16.89e-2),  # 26.89e-2\n",
    "    (\"ill\", 1.007e-2),  # 10.07e-2\n",
    "    (\"cabd\", 1.40e-2),\n",
    "    (\"kfs\", 4.73e-2),\n",
    "    (\"ab\", 19.27e-2),\n",
    "]\n",
    "\n",
    "# save to json\n",
    "with open(os.path.join(savehere, \"parentlist7.json\"), \"w\") as f:\n",
    "    json.dump(pr_list7, f)"
   ]
  },
  {
   "cell_type": "code",
   "execution_count": 3,
   "id": "43095d04-d324-4a10-b6b7-1316491bcc86",
   "metadata": {},
   "outputs": [],
   "source": [
    "# parentrock8 --- as SCEPTER 1.0 with a bit of ab and ill\n",
    "pr_list8 = [(\"inrt\", 0.95), (\"ab\", 0.45), (\"ill\", 0.05)]\n",
    "\n",
    "# save to json\n",
    "with open(os.path.join(savehere, \"parentlist8.json\"), \"w\") as f:\n",
    "    json.dump(pr_list8, f)"
   ]
  },
  {
   "cell_type": "code",
   "execution_count": null,
   "id": "364d9db8-0e94-4117-a22f-36c6d3e7b9ac",
   "metadata": {},
   "outputs": [],
   "source": [
    "# --------------------------------"
   ]
  }
 ],
 "metadata": {
  "kernelspec": {
   "display_name": "cdr-cdr-scepter1p0_env",
   "language": "python",
   "name": "conda-env-cdr-cdr-scepter1p0_env-py"
  },
  "language_info": {
   "codemirror_mode": {
    "name": "ipython",
    "version": 3
   },
   "file_extension": ".py",
   "mimetype": "text/x-python",
   "name": "python",
   "nbconvert_exporter": "python",
   "pygments_lexer": "ipython3",
   "version": "3.12.3"
  }
 },
 "nbformat": 4,
 "nbformat_minor": 5
}
