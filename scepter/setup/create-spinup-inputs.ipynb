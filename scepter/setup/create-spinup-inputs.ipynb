{
 "cells": [
  {
   "cell_type": "code",
   "execution_count": 1,
   "id": "9a52d2f9-1082-4f2d-989c-f4961a62d276",
   "metadata": {},
   "outputs": [],
   "source": [
    "# --- make csv file for spinup run inputs\n",
    "import pandas as pd\n",
    "import os"
   ]
  },
  {
   "cell_type": "code",
   "execution_count": 2,
   "id": "50c06708-c3c5-41a9-8ca8-df0ac960c526",
   "metadata": {},
   "outputs": [],
   "source": [
    "# initialize df\n",
    "df = pd.DataFrame(columns=['site', 'spinname', 'lat', 'lon', 'mat', \n",
    "                           'soilmoisture', 'qrun', 'tsom', \n",
    "                           'erosion', 'nitrif', 'tph', 'cec', \n",
    "                           'tec', 'tsoilco2', 'poro', 'alpha'])\n",
    "sites = {\"311\": [42.5, -91], \"411\": [32, -83]} "
   ]
  },
  {
   "cell_type": "code",
   "execution_count": 3,
   "id": "8cb23718-7053-493c-be8e-d0667e69e971",
   "metadata": {},
   "outputs": [],
   "source": [
    "# conduct programmatically at scale\n",
    "s1 = [\"site_311\", \n",
    "      \"site_311\",  # spinup run name\n",
    "      42.5, -91,   # coordinates\n",
    "      8.22219,             # [degC] mean annual temperature\n",
    "      0.282727,   # [m3/m3] mean annual soil moisture \n",
    "      0.3513611,          # [m/yr] mean annual runoff\n",
    "      2.051667,           # [wt%] target soil organic matter\n",
    "      0.001013,        # [m/yr] erosion\n",
    "      1.005952,         # [gN/m2/yr] NO3 production rate via nitrification\n",
    "      6.058007,            # [] target soil pH\n",
    "      21.10329,            # [cmol/kg] cation exchange capacity\n",
    "      20.98031,            # [%CEC] target exchangeable acidity (acid saturation = 100 - base saturation %)\n",
    "      -1.80371,       # [log10 atm] target soil pco2 \n",
    "      0.447,              # field porosity\n",
    "      2.               # [] pH dependence of CEC coefficients (see Appelo, 1994) -- value from Yoshi (pers. comm.) \n",
    "     ]    \n",
    "\n",
    "s2 = [\"site_411\",\n",
    "      \"site_411\",  # spinup run name\n",
    "      32, -83,    # coordinates\n",
    "      18.52789,            # [degC] mean annual temperature\n",
    "      0.231552,   # [m3/m3] mean annual soil moisture \n",
    "      0.2434256,          # [m/yr] mean annual runoff\n",
    "      2.276667,           # [wt%] target soil organic matter\n",
    "      0.00084,         # [m/yr] erosion\n",
    "      0.831883,         # [gN/m2/yr] NO3 production rate via nitrification\n",
    "      5.200242,            # [] target soil pH\n",
    "      1.96125,             # [cmol/kg] cation exchange capacity\n",
    "      46.91557,            # [%CEC] target exchangeable acidity (acid saturation = 100 - base saturation %)\n",
    "      -1.61194,       # [log10 atm] target soil pco2 \n",
    "      0.419,              # field porosity\n",
    "      2.  # [] pH dependence of CEC coefficients (see Appelo, 1994) -- value from Yoshi (pers. comm.)\n",
    "     ]\n",
    "      "
   ]
  },
  {
   "cell_type": "code",
   "execution_count": 4,
   "id": "93488505-9160-48e7-91c7-9b6c725d7345",
   "metadata": {},
   "outputs": [
    {
     "data": {
      "text/html": [
       "<div>\n",
       "<style scoped>\n",
       "    .dataframe tbody tr th:only-of-type {\n",
       "        vertical-align: middle;\n",
       "    }\n",
       "\n",
       "    .dataframe tbody tr th {\n",
       "        vertical-align: top;\n",
       "    }\n",
       "\n",
       "    .dataframe thead th {\n",
       "        text-align: right;\n",
       "    }\n",
       "</style>\n",
       "<table border=\"1\" class=\"dataframe\">\n",
       "  <thead>\n",
       "    <tr style=\"text-align: right;\">\n",
       "      <th></th>\n",
       "      <th>site</th>\n",
       "      <th>spinname</th>\n",
       "      <th>lat</th>\n",
       "      <th>lon</th>\n",
       "      <th>mat</th>\n",
       "      <th>soilmoisture</th>\n",
       "      <th>qrun</th>\n",
       "      <th>tsom</th>\n",
       "      <th>erosion</th>\n",
       "      <th>nitrif</th>\n",
       "      <th>tph</th>\n",
       "      <th>cec</th>\n",
       "      <th>tec</th>\n",
       "      <th>tsoilco2</th>\n",
       "      <th>poro</th>\n",
       "      <th>alpha</th>\n",
       "    </tr>\n",
       "  </thead>\n",
       "  <tbody>\n",
       "    <tr>\n",
       "      <th>0</th>\n",
       "      <td>site_311</td>\n",
       "      <td>site_311</td>\n",
       "      <td>42.5</td>\n",
       "      <td>-91</td>\n",
       "      <td>8.22219</td>\n",
       "      <td>0.282727</td>\n",
       "      <td>0.351361</td>\n",
       "      <td>2.051667</td>\n",
       "      <td>0.001013</td>\n",
       "      <td>1.005952</td>\n",
       "      <td>6.058007</td>\n",
       "      <td>21.10329</td>\n",
       "      <td>20.98031</td>\n",
       "      <td>-1.80371</td>\n",
       "      <td>0.447</td>\n",
       "      <td>2.0</td>\n",
       "    </tr>\n",
       "    <tr>\n",
       "      <th>1</th>\n",
       "      <td>site_411</td>\n",
       "      <td>site_411</td>\n",
       "      <td>32.0</td>\n",
       "      <td>-83</td>\n",
       "      <td>18.52789</td>\n",
       "      <td>0.231552</td>\n",
       "      <td>0.243426</td>\n",
       "      <td>2.276667</td>\n",
       "      <td>0.000840</td>\n",
       "      <td>0.831883</td>\n",
       "      <td>5.200242</td>\n",
       "      <td>1.96125</td>\n",
       "      <td>46.91557</td>\n",
       "      <td>-1.61194</td>\n",
       "      <td>0.419</td>\n",
       "      <td>2.0</td>\n",
       "    </tr>\n",
       "  </tbody>\n",
       "</table>\n",
       "</div>"
      ],
      "text/plain": [
       "       site  spinname   lat  lon       mat  soilmoisture      qrun      tsom  \\\n",
       "0  site_311  site_311  42.5  -91   8.22219      0.282727  0.351361  2.051667   \n",
       "1  site_411  site_411  32.0  -83  18.52789      0.231552  0.243426  2.276667   \n",
       "\n",
       "    erosion    nitrif       tph       cec       tec  tsoilco2   poro  alpha  \n",
       "0  0.001013  1.005952  6.058007  21.10329  20.98031  -1.80371  0.447    2.0  \n",
       "1  0.000840  0.831883  5.200242   1.96125  46.91557  -1.61194  0.419    2.0  "
      ]
     },
     "execution_count": 4,
     "metadata": {},
     "output_type": "execute_result"
    }
   ],
   "source": [
    "# --- add to df\n",
    "df.loc[0] = s1\n",
    "df.loc[1] = s2\n",
    "df"
   ]
  },
  {
   "cell_type": "code",
   "execution_count": 6,
   "id": "0270c816-ab70-47b2-beac-88a87067da5c",
   "metadata": {},
   "outputs": [],
   "source": [
    "# --- save result\n",
    "savehere = \"/home/tykukla/aglime-swap-cdr/scepter/batch-inputs\"\n",
    "savefn = \"spinup-inputs.csv\"\n",
    "df.to_csv(os.path.join(savehere, savefn), index=False)"
   ]
  }
 ],
 "metadata": {
  "kernelspec": {
   "display_name": "global-global-carbonplan",
   "language": "python",
   "name": "conda-env-global-global-carbonplan-py"
  },
  "language_info": {
   "codemirror_mode": {
    "name": "ipython",
    "version": 3
   },
   "file_extension": ".py",
   "mimetype": "text/x-python",
   "name": "python",
   "nbconvert_exporter": "python",
   "pygments_lexer": "ipython3",
   "version": "3.10.13"
  }
 },
 "nbformat": 4,
 "nbformat_minor": 5
}
